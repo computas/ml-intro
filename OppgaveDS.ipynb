{
 "cells": [
  {
   "cell_type": "markdown",
   "metadata": {
    "colab_type": "text",
    "id": "view-in-github"
   },
   "source": [
    "<a href=\"https://colab.research.google.com/github/helgaholmestad/DSCourse/blob/master/OppgaveDS.ipynb\" target=\"_parent\"><img src=\"https://colab.research.google.com/assets/colab-badge.svg\" alt=\"Open In Colab\"/></a>"
   ]
  },
  {
   "cell_type": "markdown",
   "metadata": {
    "colab_type": "text",
    "id": "jPJAeVM1qOir"
   },
   "source": [
    "# Problemstilling"
   ]
  },
  {
   "cell_type": "markdown",
   "metadata": {
    "colab_type": "text",
    "id": "ZIzkxYlDqTxL"
   },
   "source": [
    "Tenkt deg at datoen er 29 April 2020. Mange byer i verden begynner å se de aller første tilfellene av coronaviruset, mens i noen byer har pandemien kommet ganske langt allerede. New York er en av byene der pandemien har kommet langt, og de er også gode til å samle inn data. Din oppgave er å lage en modell for å predikere hvilke bydeler som er mest utsatt for å få mange dødsfall fra viruset. Modellen skal andvendes i andre storbyer i verden i det de oppdager sine første koronatilfeller. Meningen er at man skal gå inn og teste mange, samt gjøre andre forebyggende tiltak i bydeler der man predikerer at antall dødsfall kommer til å bli høyt. "
   ]
  },
  {
   "cell_type": "markdown",
   "metadata": {
    "colab_type": "text",
    "id": "9kNKPZiOv2FZ"
   },
   "source": [
    "For å evaluere modellen bruker vi leave-one-out cross validation, og vi evaluerer med RMS. Det er skrevet en metode som gjør dette."
   ]
  },
  {
   "cell_type": "markdown",
   "metadata": {},
   "source": [
    "### Forklaring til dataene\n",
    "\n",
    "Alle dataene er oppdatert 28 april \n",
    "\n",
    "|Variabel | Forklaring\n",
    "|--------- | -------------\n",
    "|deaths | registrerte dødsfall\n",
    "|cumulative_positives | totalt antall som har testet positivt\n",
    "|cumulative_tests | totalt antall som er testet\n",
    "|medianFamily  | median inttekt for en familiy \n",
    "|density  | antall personer som bor per km2\n",
    "|population | befolkning\n",
    "|smoking   | prosentandel som røyker\n",
    "|infected  | andel av befolkingen som har blitt syke"
   ]
  },
  {
   "cell_type": "markdown",
   "metadata": {},
   "source": [
    "### Datakilder\n",
    "* Antall døde i sentrum av New York per county\n",
    "https://www1.nyc.gov/site/doh/covid/covid-19-data-archive.page\n",
    "* Antall døde i hvert county, men flere i sentrum blir telt sammen, dermed ble det kombinert med forrige\n",
    "https://github.com/nytimes/covid-19-data (Data from The New York Times, based on reports from state and local health agencies.)\n",
    "* Data om antall testede\n",
    "https://data.ny.gov/\n",
    "* Andel som røyker\n",
    "https://health.data.ny.gov/Health/Community-Health-Indicator-Reports-CHIRS-Latest-Da/54ci-sdfi\n",
    "* Populasjon og areal av counties\n",
    "https://www.wolframalpha.com/"
   ]
  },
  {
   "cell_type": "markdown",
   "metadata": {},
   "source": [
    "## Oppgaven\n",
    "\n",
    "Vi har skrevet en notebook som tar deg gjennom å utforske dataene, samt lage en modell. \n",
    "Ha hele tiden oppgavens problemstilling i bakhode mens du jobber deg gjennom denne notebook\n",
    "\n",
    "1. Gjør utforskende dataanalyse. Det skal ikke være noe galt med dataene, vi har allerede gått igjennom følgende sjekkliste for å se at alt stemmer: https://docs.google.com/document/d/1km5mnhdYrAO3_2u0B06YSYPQLykuTQmujAuwjQjfAeA/edit?usp=gmail&ts=5e97143a. Det eneste er at vi er på grensen til å ha litt for lite data til å lage en god modell. En slik sjekkliste er veldig nyttig, men noen ganger ikke nok. Det er også viktig å tenke seg godt om når man utforsker dataene og tester ut modeller.\n",
    "Husk spesielt å:\n",
    "* Plotte distribusjonene til hver av variablene\n",
    "* Lag scatterplot for å se på korrelasjon mellom variablene\n",
    "\n",
    "2. Prøv å sett opp en enkel modell, test linear regresjon og random forest til å begynne med. \n",
    "For å evaluere modellen bruker vi leave-one-out cross validation, og vi evaluerer med RMS. Det er skrevet en metode som gjør dette. \n",
    "\n",
    "\n",
    "\n",
    "\n",
    "\n",
    "\n"
   ]
  },
  {
   "cell_type": "code",
   "execution_count": 1,
   "metadata": {
    "colab": {},
    "colab_type": "code",
    "id": "4Okoyept70PK"
   },
   "outputs": [],
   "source": [
    "import pandas as pd\n",
    "import matplotlib.pyplot as plt\n",
    "from sklearn.ensemble import RandomForestRegressor\n",
    "import numpy as np\n",
    "from sklearn.metrics import mean_squared_error\n",
    "import warnings\n",
    "warnings.filterwarnings('ignore')\n",
    "from sklearn.model_selection import cross_val_score\n",
    "from sklearn.model_selection import cross_val_predict\n",
    "from sklearn.model_selection import cross_validate\n",
    "import sklearn\n",
    "from sklearn import preprocessing\n",
    "from sklearn.model_selection import train_test_split \n",
    "from sklearn.linear_model import LinearRegression\n",
    "import sklearn.feature_selection\n",
    "import numpy as np\n",
    "import seaborn as sns\n",
    "from sklearn.tree import DecisionTreeRegressor  "
   ]
  },
  {
   "cell_type": "markdown",
   "metadata": {},
   "source": [
    "### Importer dataene og få en første oversikt"
   ]
  },
  {
   "cell_type": "code",
   "execution_count": 2,
   "metadata": {},
   "outputs": [],
   "source": [
    "data=pd.read_csv(\"newYorkData.csv\")\n",
    "data.head()\n",
    "data[\"deaths\"]=data[\"deaths\"]"
   ]
  },
  {
   "cell_type": "code",
   "execution_count": 3,
   "metadata": {},
   "outputs": [
    {
     "data": {
      "text/plain": [
       "(62, 10)"
      ]
     },
     "execution_count": 3,
     "metadata": {},
     "output_type": "execute_result"
    }
   ],
   "source": [
    "data.shape"
   ]
  },
  {
   "cell_type": "code",
   "execution_count": 4,
   "metadata": {},
   "outputs": [
    {
     "data": {
      "text/html": [
       "<div>\n",
       "<style scoped>\n",
       "    .dataframe tbody tr th:only-of-type {\n",
       "        vertical-align: middle;\n",
       "    }\n",
       "\n",
       "    .dataframe tbody tr th {\n",
       "        vertical-align: top;\n",
       "    }\n",
       "\n",
       "    .dataframe thead th {\n",
       "        text-align: right;\n",
       "    }\n",
       "</style>\n",
       "<table border=\"1\" class=\"dataframe\">\n",
       "  <thead>\n",
       "    <tr style=\"text-align: right;\">\n",
       "      <th></th>\n",
       "      <th>deaths</th>\n",
       "      <th>cumulative_positives</th>\n",
       "      <th>cumulative_tests</th>\n",
       "      <th>medianFamily</th>\n",
       "      <th>density</th>\n",
       "      <th>infected</th>\n",
       "      <th>smoking</th>\n",
       "      <th>population</th>\n",
       "      <th>arealand</th>\n",
       "    </tr>\n",
       "  </thead>\n",
       "  <tbody>\n",
       "    <tr>\n",
       "      <th>count</th>\n",
       "      <td>62.000000</td>\n",
       "      <td>62.000000</td>\n",
       "      <td>62.000000</td>\n",
       "      <td>62.000000</td>\n",
       "      <td>62.000000</td>\n",
       "      <td>62.000000</td>\n",
       "      <td>62.000000</td>\n",
       "      <td>6.200000e+01</td>\n",
       "      <td>62.000000</td>\n",
       "    </tr>\n",
       "    <tr>\n",
       "      <th>mean</th>\n",
       "      <td>280.403226</td>\n",
       "      <td>4833.725806</td>\n",
       "      <td>14072.274194</td>\n",
       "      <td>63555.225806</td>\n",
       "      <td>1163.960192</td>\n",
       "      <td>0.000097</td>\n",
       "      <td>21.316129</td>\n",
       "      <td>3.125500e+05</td>\n",
       "      <td>1968.653710</td>\n",
       "    </tr>\n",
       "    <tr>\n",
       "      <th>std</th>\n",
       "      <td>776.955755</td>\n",
       "      <td>11765.809489</td>\n",
       "      <td>29511.385229</td>\n",
       "      <td>14386.779648</td>\n",
       "      <td>4171.538908</td>\n",
       "      <td>0.000135</td>\n",
       "      <td>5.568271</td>\n",
       "      <td>5.323563e+05</td>\n",
       "      <td>1271.183827</td>\n",
       "    </tr>\n",
       "    <tr>\n",
       "      <th>min</th>\n",
       "      <td>0.000000</td>\n",
       "      <td>3.000000</td>\n",
       "      <td>38.000000</td>\n",
       "      <td>38431.000000</td>\n",
       "      <td>1.087230</td>\n",
       "      <td>0.000000</td>\n",
       "      <td>10.400000</td>\n",
       "      <td>4.836000e+03</td>\n",
       "      <td>59.130000</td>\n",
       "    </tr>\n",
       "    <tr>\n",
       "      <th>25%</th>\n",
       "      <td>1.000000</td>\n",
       "      <td>59.250000</td>\n",
       "      <td>764.000000</td>\n",
       "      <td>53973.250000</td>\n",
       "      <td>29.024049</td>\n",
       "      <td>0.000002</td>\n",
       "      <td>16.425000</td>\n",
       "      <td>5.124350e+04</td>\n",
       "      <td>1143.500000</td>\n",
       "    </tr>\n",
       "    <tr>\n",
       "      <th>50%</th>\n",
       "      <td>3.000000</td>\n",
       "      <td>126.500000</td>\n",
       "      <td>1373.500000</td>\n",
       "      <td>59116.000000</td>\n",
       "      <td>45.864643</td>\n",
       "      <td>0.000039</td>\n",
       "      <td>21.750000</td>\n",
       "      <td>9.130100e+04</td>\n",
       "      <td>1693.000000</td>\n",
       "    </tr>\n",
       "    <tr>\n",
       "      <th>75%</th>\n",
       "      <td>29.500000</td>\n",
       "      <td>912.250000</td>\n",
       "      <td>7040.750000</td>\n",
       "      <td>68946.500000</td>\n",
       "      <td>165.366786</td>\n",
       "      <td>0.000120</td>\n",
       "      <td>24.800000</td>\n",
       "      <td>2.310602e+05</td>\n",
       "      <td>2648.000000</td>\n",
       "    </tr>\n",
       "    <tr>\n",
       "      <th>max</th>\n",
       "      <td>3608.000000</td>\n",
       "      <td>50741.000000</td>\n",
       "      <td>116488.000000</td>\n",
       "      <td>107934.000000</td>\n",
       "      <td>26820.108236</td>\n",
       "      <td>0.000542</td>\n",
       "      <td>34.300000</td>\n",
       "      <td>2.504700e+06</td>\n",
       "      <td>6942.000000</td>\n",
       "    </tr>\n",
       "  </tbody>\n",
       "</table>\n",
       "</div>"
      ],
      "text/plain": [
       "            deaths  cumulative_positives  cumulative_tests   medianFamily  \\\n",
       "count    62.000000             62.000000         62.000000      62.000000   \n",
       "mean    280.403226           4833.725806      14072.274194   63555.225806   \n",
       "std     776.955755          11765.809489      29511.385229   14386.779648   \n",
       "min       0.000000              3.000000         38.000000   38431.000000   \n",
       "25%       1.000000             59.250000        764.000000   53973.250000   \n",
       "50%       3.000000            126.500000       1373.500000   59116.000000   \n",
       "75%      29.500000            912.250000       7040.750000   68946.500000   \n",
       "max    3608.000000          50741.000000     116488.000000  107934.000000   \n",
       "\n",
       "            density   infected    smoking    population     arealand  \n",
       "count     62.000000  62.000000  62.000000  6.200000e+01    62.000000  \n",
       "mean    1163.960192   0.000097  21.316129  3.125500e+05  1968.653710  \n",
       "std     4171.538908   0.000135   5.568271  5.323563e+05  1271.183827  \n",
       "min        1.087230   0.000000  10.400000  4.836000e+03    59.130000  \n",
       "25%       29.024049   0.000002  16.425000  5.124350e+04  1143.500000  \n",
       "50%       45.864643   0.000039  21.750000  9.130100e+04  1693.000000  \n",
       "75%      165.366786   0.000120  24.800000  2.310602e+05  2648.000000  \n",
       "max    26820.108236   0.000542  34.300000  2.504700e+06  6942.000000  "
      ]
     },
     "execution_count": 4,
     "metadata": {},
     "output_type": "execute_result"
    }
   ],
   "source": [
    "data.describe()"
   ]
  },
  {
   "cell_type": "markdown",
   "metadata": {},
   "source": [
    "### Sjekk distribusjonen til hver av variablene\n",
    "Plott distribusjonen til alle de forskjellige variablene og diskuter det du ser. Bruk upper_lim og lower_lim for å zoome inn på interessante områder"
   ]
  },
  {
   "cell_type": "code",
   "execution_count": 5,
   "metadata": {},
   "outputs": [],
   "source": [
    "#Hjelpefunksjon for histogrammer\n",
    "def makeHistogram(data,variable,upper_lim=None,lower_lim=None):\n",
    "    if upper_lim==None:\n",
    "        upper_lim=data[variable].max()\n",
    "    if lower_lim==None:\n",
    "        lower_lim=data[variable].min()\n",
    "    plt.hist(data[variable],bins=50,range=[data[variable].min(),upper_lim]) \n",
    "    plt.ylabel(\"frequency\")\n",
    "    plt.xlabel(variable)"
   ]
  },
  {
   "cell_type": "code",
   "execution_count": 6,
   "metadata": {},
   "outputs": [
    {
     "data": {
      "image/png": "[encoded data removed]",
      "text/plain": [
       "<Figure size 432x288 with 1 Axes>"
      ]
     },
     "metadata": {
      "needs_background": "light"
     },
     "output_type": "display_data"
    }
   ],
   "source": [
    "makeHistogram(data,\"deaths\")"
   ]
  },
  {
   "cell_type": "code",
   "execution_count": 7,
   "metadata": {},
   "outputs": [
    {
     "data": {
      "image/png": "[encoded data removed]",
      "text/plain": [
       "<Figure size 432x288 with 1 Axes>"
      ]
     },
     "metadata": {
      "needs_background": "light"
     },
     "output_type": "display_data"
    }
   ],
   "source": [
    "#Zoom in i et mindre område der du tror det er interessant\n",
    "makeHistogram(data,\"deaths\",lower_lim=0,upper_lim=100)"
   ]
  },
  {
   "cell_type": "markdown",
   "metadata": {},
   "source": [
    "### Sjekk korrelasjonen mellom variablene\n"
   ]
  },
  {
   "cell_type": "code",
   "execution_count": 8,
   "metadata": {},
   "outputs": [],
   "source": [
    "def corr_heatmap(df, figsize=(10,10)):\n",
    "    _, axs = plt.subplots(figsize=figsize)\n",
    "    ax = sns.heatmap(df, vmin=-1, vmax=1, cmap=\"BrBG\", linewidths=0.5, annot=True, ax=axs)\n",
    "    ax.set_title('Correlation matrix')\n",
    "    return ax"
   ]
  },
  {
   "cell_type": "code",
   "execution_count": 9,
   "metadata": {},
   "outputs": [
    {
     "data": {
      "text/plain": [
       "<matplotlib.axes._subplots.AxesSubplot at 0x7f01c70fca10>"
      ]
     },
     "execution_count": 9,
     "metadata": {},
     "output_type": "execute_result"
    },
    {
     "data": {
      "image/png": "[encoded data removed]",
      "text/plain": [
       "<Figure size 720x720 with 2 Axes>"
      ]
     },
     "metadata": {
      "needs_background": "light"
     },
     "output_type": "display_data"
    }
   ],
   "source": [
    "corr_heatmap(data.corr())"
   ]
  },
  {
   "cell_type": "markdown",
   "metadata": {},
   "source": [
    "Vi ser det er en del sterke korrelasjoner. Sjekk scatterplot for de du mener er interessante, prøv også å bruke log skala. Spesielt ser det ut til at population er korrelert med dødsfall. For hvert scatterplot du lager, tenk igjennom hvorfor det ser ut som det gjør. "
   ]
  },
  {
   "cell_type": "code",
   "execution_count": 10,
   "metadata": {},
   "outputs": [],
   "source": [
    "def makeScatterPlot(data,para1,para2,logx=False,logy=False):\n",
    "    plt.plot(data[para1],data[para2],'*')\n",
    "    if logx:\n",
    "        plt.yscale(\"log\")\n",
    "    if logy:    \n",
    "        plt.xscale('log')\n",
    "    plt.xlabel(para1)\n",
    "    plt.ylabel(para2)"
   ]
  },
  {
   "cell_type": "code",
   "execution_count": 11,
   "metadata": {},
   "outputs": [
    {
     "data": {
      "image/png": "[encoded data removed]",
      "text/plain": [
       "<Figure size 432x288 with 1 Axes>"
      ]
     },
     "metadata": {
      "needs_background": "light"
     },
     "output_type": "display_data"
    }
   ],
   "source": [
    "makeScatterPlot(data,\"medianFamily\",\"deaths\",logx=True, logy=True)"
   ]
  },
  {
   "cell_type": "markdown",
   "metadata": {},
   "source": [
    "### Diskuter\n",
    "Det ser ut til at både cumulative_tests, cumulative_ positives, population og density er gode prediktorer. Men allikevel er det ikke sikkert at de bør brukes når man lager en modell. Gå tilbake og les problemstillingen en gang til, diskuter om det er variable vi ikke kan bruke. "
   ]
  },
  {
   "cell_type": "markdown",
   "metadata": {},
   "source": [
    "<details> \n",
    "  <summary> Trykk på pilen først etter at dere har diskutert </summary>\n",
    "  Modellen skal brukes i det de første tilfellene dukker opp i en by. På det tidspunktet vet man ikke noe om hvor mange som er smittet, hvor mange som er testet eller hvor mange som har testet positivt. Man ønsker å bruke modellen til å påvirke disse variablene, dermed kan de ikke være en del av modellen\n",
    "</details>"
   ]
  },
  {
   "cell_type": "markdown",
   "metadata": {},
   "source": [
    "### Prøv dere frem med noen enkle modeller og diskuter. "
   ]
  },
  {
   "cell_type": "markdown",
   "metadata": {},
   "source": [
    "Basert på konklusjonen av diskusjonen i forrige oppgave fokuserer vi på population, medianFamily, smoking og density. Utifra scatter plots ser det ut til at det er en linear sammenheng mellom logaritmen til \"deaths\" og og logaritmen til en del av variablene. Allikevel kan det være vanskelig å lage en linear modell. Diskuter hva problemen kan være."
   ]
  },
  {
   "cell_type": "markdown",
   "metadata": {},
   "source": [
    "<details> \n",
    "  <summary> Trykk på pilen først etter at dere har diskutert </summary>\n",
    "  Dersom du skal transformere dataene slik at du kan lage en lineær modell må du ta logaritmen av kolonnen \"deaths\". Da blir det et problem at i mange counties er det null dødsfall, og logaritmen til 0 er minus uendelig. Man kan ta hensyn til det, men det er ikke rett frem. Dere kan lese om det her: https://papers.ssrn.com/sol3/papers.cfm?abstract_id=3444996. (Jeg har ikke lest hele artikkelen, og lengden på artikkelen gir et intrykk av at dette ikke er rett frem. )    \n",
    "</details>"
   ]
  },
  {
   "cell_type": "markdown",
   "metadata": {},
   "source": [
    "Vi tester en enkel random forest modell istedenfor. Random forest er ikke avhenige av lineære sammenhenger. Vi har skrevet en enkel funksjon for dere som gjøre leave-one-out cross validering av modellen. Test modellen med forskjellig kombinasjon av uavhenige variable. Sjekk feature importance. Hvilke features ser ut til å være viktige:"
   ]
  },
  {
   "cell_type": "code",
   "execution_count": 12,
   "metadata": {},
   "outputs": [],
   "source": [
    "def makePredictions(data,columns):\n",
    "    regressor = RandomForestRegressor(random_state=4, max_depth=3)\n",
    "    def predict(train,test):\n",
    "        test=test[columns]\n",
    "        X=train[columns]\n",
    "        y=train[\"deaths\"]\n",
    "        regressor.fit(X,y)\n",
    "        prediction=regressor.predict(test)\n",
    "        return prediction\n",
    "    predictions=[]\n",
    "    result=data[columns]\n",
    "    result[\"deaths\"]=data[\"deaths\"]\n",
    "    for i in range(len(data)):\n",
    "        predicted=predict(data.drop([i]),data.iloc[[i]])\n",
    "        predictions.append(predicted[0])\n",
    "    result[\"predictions\"]=predictions\n",
    "    result[\"diff\"]=result[\"predictions\"]-result[\"deaths\"]\n",
    "    error=np.sqrt(mean_squared_error(result[\"deaths\"],result[\"predictions\"]))\n",
    "    model=regressor.fit(data[columns],data[\"deaths\"])\n",
    "    importance=model.feature_importances_\n",
    "    return result,error,model,importance"
   ]
  },
  {
   "cell_type": "code",
   "execution_count": 13,
   "metadata": {},
   "outputs": [],
   "source": [
    "columns=[\"population\",\"density\",\"medianFamily\",\"smoking\"]"
   ]
  },
  {
   "cell_type": "code",
   "execution_count": 14,
   "metadata": {},
   "outputs": [],
   "source": [
    "result,error,model,importance=makePredictions(data,columns)"
   ]
  },
  {
   "cell_type": "code",
   "execution_count": 15,
   "metadata": {},
   "outputs": [
    {
     "data": {
      "text/plain": [
       "304.9182043807829"
      ]
     },
     "execution_count": 15,
     "metadata": {},
     "output_type": "execute_result"
    }
   ],
   "source": [
    "error"
   ]
  },
  {
   "cell_type": "code",
   "execution_count": 16,
   "metadata": {},
   "outputs": [
    {
     "data": {
      "text/plain": [
       "array([0.59419438, 0.30407958, 0.04543212, 0.05629392])"
      ]
     },
     "execution_count": 16,
     "metadata": {},
     "output_type": "execute_result"
    }
   ],
   "source": [
    "importance"
   ]
  },
  {
   "cell_type": "markdown",
   "metadata": {},
   "source": [
    "<details>\n",
    " <summary> Trykk på pilen først etter at dere har prøvd dere frem litt </summary>\n",
    "Egentlig så ser det ut som om det er best å bruke kun en uavhenige variabel. Dette gir mening, siden det er kun det vi har nok data til. Det ser ut til at \"population\" er den viktigste variablen\n",
    "</details>"
   ]
  },
  {
   "cell_type": "markdown",
   "metadata": {},
   "source": [
    "### La oss ta en tenkepause og diskutere litt igjen"
   ]
  },
  {
   "cell_type": "markdown",
   "metadata": {},
   "source": [
    "Det ser ut til at den viktigste uavhenige variablen er population. Tenk igjennom hvorfor. Hvilken verdi gir det egentlig for en by å ha en modell som predikerer antall dødsfall som funksjon av antall personer i bydelen? \n",
    "Dersom det ikke var noen forskjell på bydelene, hva ville sammenhengen mellom population og deaths da vært? "
   ]
  },
  {
   "cell_type": "markdown",
   "metadata": {},
   "source": [
    "Som nevnt i oppgaven så tenker vi oss nå at en annen by skal andvende modellen, men vil modellen slik den er nå gi verdi for den nye byen? Kan vi teste det på noen måte? Diskuter"
   ]
  },
  {
   "cell_type": "markdown",
   "metadata": {},
   "source": [
    "<details> \n",
    "  <summary> Trykk på pilen først etter at dere har diskutert </summary>\n",
    "    Det er ganske logisk at det er en sammenheng mellom antall folk i en bydel og hvor mange som dør av korona. Dersom alle bydelene har samme risiko, det vil si samme prosentandel som dør, så ville man sett en lineær sammenheng.\n",
    "    Altså ville man sett en sterk korrelasjon mellom population og deaths selv om alle bydelene var like utsatt. Dersom modellen skal være overførbar til en annen by, burde modellen fungere selv om man valgte å dele inn bydelene på en annen måte. Vi kan gjøre en test ved å slå sammen alle bydelene med mindre enn 70000 inbyggere til en ny bydel, og se hva den modellen predikerer.\n",
    "    </details>"
   ]
  },
  {
   "cell_type": "markdown",
   "metadata": {},
   "source": [
    "### Gjør en county sammenslåing (kommunesammenslåing :))"
   ]
  },
  {
   "cell_type": "code",
   "execution_count": 17,
   "metadata": {},
   "outputs": [],
   "source": [
    "columns=[\"population\"]\n",
    "result,error,model,importance=makePredictions(data,columns)"
   ]
  },
  {
   "cell_type": "code",
   "execution_count": 27,
   "metadata": {},
   "outputs": [],
   "source": [
    "small=data[data[\"population\"]<70000]\n",
    "newCounty=pd.DataFrame()\n",
    "newCounty=newCounty.append(pd.Series(),ignore_index=True)\n",
    "newCounty[\"deaths\"]=small[\"deaths\"].sum()\n",
    "newCounty[\"density\"]=small[\"population\"].sum()/small[\"arealand\"].sum()\n",
    "newCounty[\"population\"]=small[\"population\"].sum()"
   ]
  },
  {
   "cell_type": "code",
   "execution_count": 28,
   "metadata": {},
   "outputs": [
    {
     "data": {
      "text/html": [
       "<div>\n",
       "<style scoped>\n",
       "    .dataframe tbody tr th:only-of-type {\n",
       "        vertical-align: middle;\n",
       "    }\n",
       "\n",
       "    .dataframe tbody tr th {\n",
       "        vertical-align: top;\n",
       "    }\n",
       "\n",
       "    .dataframe thead th {\n",
       "        text-align: right;\n",
       "    }\n",
       "</style>\n",
       "<table border=\"1\" class=\"dataframe\">\n",
       "  <thead>\n",
       "    <tr style=\"text-align: right;\">\n",
       "      <th></th>\n",
       "      <th>deaths</th>\n",
       "      <th>density</th>\n",
       "      <th>population</th>\n",
       "    </tr>\n",
       "  </thead>\n",
       "  <tbody>\n",
       "    <tr>\n",
       "      <th>0</th>\n",
       "      <td>50</td>\n",
       "      <td>21.647068</td>\n",
       "      <td>1166725</td>\n",
       "    </tr>\n",
       "  </tbody>\n",
       "</table>\n",
       "</div>"
      ],
      "text/plain": [
       "   deaths    density  population\n",
       "0      50  21.647068     1166725"
      ]
     },
     "execution_count": 28,
     "metadata": {},
     "output_type": "execute_result"
    }
   ],
   "source": [
    "newCounty"
   ]
  },
  {
   "cell_type": "code",
   "execution_count": 29,
   "metadata": {},
   "outputs": [
    {
     "data": {
      "text/plain": [
       "array([3.02766735e-05])"
      ]
     },
     "execution_count": 29,
     "metadata": {},
     "output_type": "execute_result"
    }
   ],
   "source": [
    "model.predict(newCounty[columns])"
   ]
  },
  {
   "cell_type": "markdown",
   "metadata": {},
   "source": [
    "Dette gikk jo veldig feil. I det nye county så predikerer vi altfor mange dødfall, men det reelle tallet var bare 50. Diskuter hva som skjedde her. "
   ]
  },
  {
   "cell_type": "markdown",
   "metadata": {},
   "source": [
    "<details> \n",
    "  <summary> Trykk på pilen først etter at dere har diskutert </summary>\n",
    "Egentlig så bør vi ikke ha med population som en variabel. Fordi det vi egentlig er ute etter er å estimere hvilke bydeler som er mer utsatt for korona enn andre, det vil si hvilke bydeler som har en høyest dødsrate (antall døde per inbygger). Dermed bør vi heller lage en modell der vi predikerer dødsraten. For å evaluere modellen slik vi ble bedt om av oppdragsgiver, estimerer vi dødraten i hver bydel før vi ganger vi med population for å estimere antall som døde. \n",
    "    </details>"
   ]
  },
  {
   "cell_type": "code",
   "execution_count": 30,
   "metadata": {},
   "outputs": [],
   "source": [
    "def makePredictionsUsingDeathRate(data,columns):\n",
    "    regressor = RandomForestRegressor(n_estimators=200,random_state=42,bootstrap=True,max_depth=3)\n",
    "    #regressor = DecisionTreeRegressor(max_depth=10)\n",
    "    def predict(train,test):\n",
    "        population=test.population.values[0]\n",
    "        train_population=train[\"population\"]\n",
    "        test=test[columns]\n",
    "        X=train[columns]\n",
    "        y=train[\"deathRate\"]\n",
    "        regressor.fit(X,y,sample_weight=train_population)\n",
    "        prediction=regressor.predict(test)\n",
    "        return prediction[0]*population\n",
    "    predictions=[]\n",
    "    result=data[columns]\n",
    "    result[\"deaths\"]=data[\"deaths\"]\n",
    "    for i in range(len(data)):\n",
    "        predicted=predict(data.drop([i]),data.iloc[[i]])\n",
    "        predictions.append(predicted)\n",
    "    result[\"predictions\"]=predictions\n",
    "    result[\"diff\"]=result[\"predictions\"]-result[\"deaths\"]\n",
    "    error=np.sqrt(mean_squared_error(result[\"deaths\"],result[\"predictions\"]))\n",
    "    model=regressor.fit(data[columns],data[\"deathRate\"],sample_weight=data[\"population\"])\n",
    "    importance=model.feature_importances_\n",
    "    return result,error,model,importance"
   ]
  },
  {
   "cell_type": "code",
   "execution_count": 31,
   "metadata": {},
   "outputs": [],
   "source": [
    "data[\"deathRate\"]=data[\"deaths\"]/data[\"population\"]"
   ]
  },
  {
   "cell_type": "code",
   "execution_count": 32,
   "metadata": {},
   "outputs": [],
   "source": [
    "columns=[\"density\"]"
   ]
  },
  {
   "cell_type": "code",
   "execution_count": 33,
   "metadata": {},
   "outputs": [],
   "source": [
    "result,error,model,importance=makePredictionsUsingDeathRate(data,columns)"
   ]
  },
  {
   "cell_type": "code",
   "execution_count": 34,
   "metadata": {},
   "outputs": [
    {
     "data": {
      "text/plain": [
       "173.357471470015"
      ]
     },
     "execution_count": 34,
     "metadata": {},
     "output_type": "execute_result"
    }
   ],
   "source": [
    "error"
   ]
  },
  {
   "cell_type": "code",
   "execution_count": 39,
   "metadata": {},
   "outputs": [
    {
     "data": {
      "text/plain": [
       "0    35.324552\n",
       "Name: population, dtype: float64"
      ]
     },
     "execution_count": 39,
     "metadata": {},
     "output_type": "execute_result"
    }
   ],
   "source": [
    "#Bruker modellen igjen for å predikere for det nye sammenslåtte county, og nå går det mye bedre\n",
    "model.predict(newCounty[columns])*newCounty[\"population\"]"
   ]
  },
  {
   "cell_type": "markdown",
   "metadata": {},
   "source": [
    "Vi ser at vi fikk en noe bedre modell bare ved å faktisk predikere riktig variabel. Men nå tenker vi på hvert enkel bydel som et målepunkt. Er det riktig å gjøre? Har det noe å si om en bydel har flere inbyggere enn en annen. "
   ]
  },
  {
   "cell_type": "markdown",
   "metadata": {},
   "source": [
    "<details> \n",
    "  <summary> Trykk på pilen først etter at dere har diskutert </summary>\n",
    "    I en bydel med stor befolkning har vi flere målepunkter, vi kan tenke på et dødsfall som et målepunkt. Det vil si at vi er mer sikre på dødsraten i en bydel med mange innbyggere. Dermed kan det være lurt å vekte dataene våre med population. Det kan gjøres ved å legge til/forandre to linjer kodei predict.\n",
    "    <code> train_population=train[\"population\"]#legg til\n",
    "    regressor.fit(X,y,sample_weight=train_population) #tren med vekting <code>\n",
    "    </details>"
   ]
  },
  {
   "cell_type": "markdown",
   "metadata": {},
   "source": [
    "### Hva har vi egentlig endt opp med?"
   ]
  },
  {
   "cell_type": "markdown",
   "metadata": {},
   "source": [
    "Vi endte opp med en modell som bruker kun density til å predikere death rate. Sidne vi kun har en uavhenige variable kan vi plotte opp modellen.\n"
   ]
  },
  {
   "cell_type": "code",
   "execution_count": 53,
   "metadata": {},
   "outputs": [],
   "source": [
    "density=np.arange(data[\"density\"].min(),data[\"density\"].max())\n",
    "predicted=model.predict(density.reshape(-1,1))"
   ]
  },
  {
   "cell_type": "code",
   "execution_count": 54,
   "metadata": {},
   "outputs": [
    {
     "data": {
      "text/plain": [
       "[<matplotlib.lines.Line2D at 0x7f4842866510>]"
      ]
     },
     "execution_count": 54,
     "metadata": {},
     "output_type": "execute_result"
    },
    {
     "data": {
      "image/png": "[encoded data removed]",
      "text/plain": [
       "<Figure size 432x288 with 1 Axes>"
      ]
     },
     "metadata": {
      "needs_background": "light"
     },
     "output_type": "display_data"
    }
   ],
   "source": [
    "plt.plot(density,predicted)\n",
    "plt.plot(data[\"density\"],data[\"deathRate\"],'*')"
   ]
  },
  {
   "cell_type": "markdown",
   "metadata": {},
   "source": [
    "Vi ser at vi egentlig bare har gjort noe som ligner på en enkel kurvetilpasning. Konklusjonen av alt vi har gjort er at tettboddhet gjør en bydel utsastt for korona. Det ser også ut som om vi har en slags terksel, når man kommer over en tetthet på rundt 1000 personer per km^2 så begynner det å bli veldig farlig. Men alt dette kunne vi egentlig ha sett kun ved å plotte density mot deathRate\n",
    "Ga alt vi gjorde med maskinlæring egentlig noe verdi? Diskuter"
   ]
  },
  {
   "cell_type": "markdown",
   "metadata": {},
   "source": [
    "<details> \n",
    "  <summary> Trykk på pilen først etter at dere har diskutert </summary>\n",
    "    I prosessen med å lage modellen så lært vi en del nyttig. Selv om konklusjonen vi kom frem til kunne man funnet ved kun å plotte deathRate mot density, så var veien dit lærerik. Det viktigste vi fant ut var at de andre variablene ikke hadde så mye å si. For eksempel hadde det lite å si hvor mange som røyket i bydelen, og hvor rik bydelen var. \n",
    "Dersom man ikke hadde gått igjennom prosessen med å lage modellen, så hadde man fremdeles lurt på om disse variablene hadde noe å si. Men ved å lage modellen så ble vi mye sikrere på at tettboddhet er veldig viktig, mye viktigere enn de andre faktorene vi hadde informasjon om. \n",
    "    Vi hadde også så lite data at man kun kunne bruke en uavhenige variable for å lage en modell. Gjennom denne prosessen så fant vi ut hvilken variabel som var den viktigste, og vi fant ut at dersom man skal lage en bedre modell trenger man mere data, man må kanskje aggregere data fra flere andre byer\n",
    "    </details>"
   ]
  },
  {
   "cell_type": "code",
   "execution_count": null,
   "metadata": {},
   "outputs": [],
   "source": []
  }
 ],
 "metadata": {
  "colab": {
   "authorship_tag": "ABX9TyN+2D0ELcnxnH8GbVteLyoB",
   "include_colab_link": true,
   "name": "OppgaveDS.ipynb",
   "provenance": []
  },
  "kernelspec": {
   "display_name": "Python 3",
   "language": "python",
   "name": "python3"
  },
  "language_info": {
   "codemirror_mode": {
    "name": "ipython",
    "version": 3
   },
   "file_extension": ".py",
   "mimetype": "text/x-python",
   "name": "python",
   "nbconvert_exporter": "python",
   "pygments_lexer": "ipython3",
   "version": "3.7.7"
  }
 },
 "nbformat": 4,
 "nbformat_minor": 4
}
