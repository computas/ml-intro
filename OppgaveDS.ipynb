{
  "nbformat": 4,
  "nbformat_minor": 0,
  "metadata": {
    "colab": {
      "name": "OppgaveDS.ipynb",
      "provenance": [],
      "include_colab_link": true
    },
    "kernelspec": {
      "display_name": "Python 3",
      "language": "python",
      "name": "python3"
    },
    "language_info": {
      "codemirror_mode": {
        "name": "ipython",
        "version": 3
      },
      "file_extension": ".py",
      "mimetype": "text/x-python",
      "name": "python",
      "nbconvert_exporter": "python",
      "pygments_lexer": "ipython3",
      "version": "3.7.7"
    }
  },
  "cells": [
    {
      "cell_type": "markdown",
      "metadata": {
        "id": "view-in-github",
        "colab_type": "text"
      },
      "source": [
        "<a href=\"https://colab.research.google.com/github/computas/ml-intro/blob/master/OppgaveDS.ipynb\" target=\"_parent\"><img src=\"https://colab.research.google.com/assets/colab-badge.svg\" alt=\"Open In Colab\"/></a>"
      ]
    },
    {
      "cell_type": "markdown",
      "metadata": {
        "colab_type": "text",
        "id": "jPJAeVM1qOir"
      },
      "source": [
        "# Problemstilling"
      ]
    },
    {
      "cell_type": "markdown",
      "metadata": {
        "colab_type": "text",
        "id": "ZIzkxYlDqTxL"
      },
      "source": [
        "Tenkt deg at datoen er 29 April 2020. Mange byer i verden begynner å se de aller første tilfellene av coronaviruset, mens i noen byer har pandemien kommet ganske langt allerede. New York er en av byene der pandemien har kommet langt, og de er også gode til å samle inn data. Din oppgave er å lage en modell for å predikere hvilke bydeler som er mest utsatt for å få mange dødsfall fra viruset. Modellen skal andvendes i andre storbyer i verden i det de oppdager sine første koronatilfeller. Meningen er at man skal gå inn og teste mange, samt gjøre andre forebyggende tiltak i bydeler der man predikerer at antall dødsfall kommer til å bli høyt. "
      ]
    },
    {
      "cell_type": "markdown",
      "metadata": {
        "colab_type": "text",
        "id": "9kNKPZiOv2FZ"
      },
      "source": [
        "For å evaluere modellen bruker vi [leave-one-out cross validation](https://link.springer.com/referenceworkentry/10.1007%2F978-0-387-30164-8_469), og vi evaluerer med RMS. Det er skrevet en metode som gjør dette."
      ]
    },
    {
      "cell_type": "markdown",
      "metadata": {
        "id": "abfCWf_-AKZL",
        "colab_type": "text"
      },
      "source": [
        "### Forklaring til dataene\n",
        "\n",
        "Alle dataene er oppdatert 28 april \n",
        "\n",
        "|Variabel | Forklaring\n",
        "|--------- | -------------\n",
        "|deaths | registrerte dødsfall\n",
        "|cumulative_positives | totalt antall som har testet positivt\n",
        "|cumulative_tests | totalt antall som er testet\n",
        "|medianFamily  | median inttekt for en familiy \n",
        "|density  | antall personer som bor per km2\n",
        "|population | befolkning\n",
        "|smoking   | prosentandel som røyker\n",
        "|infected  | andel av befolkingen som har blitt syke"
      ]
    },
    {
      "cell_type": "markdown",
      "metadata": {
        "id": "X9KMMzJKAKZN",
        "colab_type": "text"
      },
      "source": [
        "### Datakilder\n",
        "* Antall døde i sentrum av New York per county\n",
        "https://www1.nyc.gov/site/doh/covid/covid-19-data-archive.page\n",
        "* Antall døde i hvert county, men flere i sentrum blir telt sammen, dermed ble det kombinert med forrige\n",
        "https://github.com/nytimes/covid-19-data (Data from The New York Times, based on reports from state and local health agencies.)\n",
        "* Data om antall testede\n",
        "https://data.ny.gov/\n",
        "* Andel som røyker\n",
        "https://health.data.ny.gov/Health/Community-Health-Indicator-Reports-CHIRS-Latest-Da/54ci-sdfi\n",
        "* Populasjon og areal av counties\n",
        "https://www.wolframalpha.com/"
      ]
    },
    {
      "cell_type": "markdown",
      "metadata": {
        "id": "3a07ivQwAKZP",
        "colab_type": "text"
      },
      "source": [
        "## Oppgaven\n",
        "\n",
        "Vi har skrevet en notebook som tar deg gjennom å utforske dataene, samt lage en modell. \n",
        "Ha hele tiden oppgavens problemstilling i bakhode mens du jobber deg gjennom denne notebook\n",
        "\n",
        "1. Gjør utforskende dataanalyse. Det skal ikke være noe galt med dataene, vi har allerede gått igjennom følgende sjekkliste for å se at alt stemmer: https://docs.google.com/document/d/1km5mnhdYrAO3_2u0B06YSYPQLykuTQmujAuwjQjfAeA/edit?usp=gmail&ts=5e97143a. Det eneste er at vi er på grensen til å ha litt for lite data til å lage en god modell. En slik sjekkliste er veldig nyttig, men noen ganger ikke nok. Det er også viktig å tenke seg godt om når man utforsker dataene og tester ut modeller.\n",
        "Husk spesielt å:\n",
        "* Plotte distribusjonene til hver av variablene\n",
        "* Lag scatterplot for å se på korrelasjon mellom variablene\n",
        "\n",
        "2. Prøv å sett opp en enkel modell, test linear regresjon og random forest til å begynne med. \n",
        "For å evaluere modellen bruker vi leave-one-out cross validation, og vi evaluerer med [MSE](https://en.wikipedia.org/wiki/Mean_squared_error). Det er skrevet en metode som gjør dette. \n",
        "\n",
        "\n",
        "\n",
        "\n",
        "\n",
        "\n"
      ]
    },
    {
      "cell_type": "code",
      "metadata": {
        "colab_type": "code",
        "id": "4Okoyept70PK",
        "colab": {}
      },
      "source": [
        "import warnings\n",
        "warnings.filterwarnings('ignore')\n",
        "\n",
        "import pandas as pd\n",
        "import matplotlib.pyplot as plt\n",
        "import numpy as np\n",
        "import seaborn as sns\n",
        "\n",
        "import sklearn\n",
        "from sklearn import preprocessing\n",
        "import sklearn.feature_selection\n",
        "from sklearn.model_selection import (train_test_split,\n",
        "                                     cross_val_score,\n",
        "                                     cross_val_predict,\n",
        "                                     cross_validate)\n",
        "from sklearn.metrics import mean_squared_error\n",
        "from sklearn.ensemble import RandomForestRegressor\n",
        "from sklearn.linear_model import LinearRegression\n",
        "from sklearn.tree import DecisionTreeRegressor  "
      ],
      "execution_count": 0,
      "outputs": []
    },
    {
      "cell_type": "markdown",
      "metadata": {
        "id": "-6pQnBzTNjKG",
        "colab_type": "text"
      },
      "source": [
        "Last ned data fra git (bare hvis du kjører fra colab)\n"
      ]
    },
    {
      "cell_type": "code",
      "metadata": {
        "id": "X7LfXYPjNmlD",
        "colab_type": "code",
        "outputId": "0e5c0d80-c354-4f9e-fd26-591ff037577c",
        "colab": {
          "base_uri": "https://localhost:8080/",
          "height": 204
        }
      },
      "source": [
        "# Hent data\n",
        "!wget -c https://raw.githubusercontent.com/computas/ml-intro/master/newYorkData.csv"
      ],
      "execution_count": 3,
      "outputs": [
        {
          "output_type": "stream",
          "text": [
            "--2020-06-07 14:24:45--  https://raw.githubusercontent.com/computas/ml-intro/master/newYorkData.csv\n",
            "Resolving raw.githubusercontent.com (raw.githubusercontent.com)... 151.101.0.133, 151.101.64.133, 151.101.128.133, ...\n",
            "Connecting to raw.githubusercontent.com (raw.githubusercontent.com)|151.101.0.133|:443... connected.\n",
            "HTTP request sent, awaiting response... 200 OK\n",
            "Length: 5075 (5.0K) [text/plain]\n",
            "Saving to: ‘newYorkData.csv’\n",
            "\n",
            "\rnewYorkData.csv       0%[                    ]       0  --.-KB/s               \rnewYorkData.csv     100%[===================>]   4.96K  --.-KB/s    in 0s      \n",
            "\n",
            "2020-06-07 14:24:46 (74.0 MB/s) - ‘newYorkData.csv’ saved [5075/5075]\n",
            "\n"
          ],
          "name": "stdout"
        }
      ]
    },
    {
      "cell_type": "markdown",
      "metadata": {
        "id": "0H-xD7EvAKZX",
        "colab_type": "text"
      },
      "source": [
        "### Importer dataene og få en første oversikt"
      ]
    },
    {
      "cell_type": "code",
      "metadata": {
        "id": "sKrQw9CVAKZY",
        "colab_type": "code",
        "colab": {}
      },
      "source": [
        "data = pd.read_csv(\"newYorkData.csv\")\n",
        "data.head()\n",
        "data[\"deaths\"] = data[\"deaths\"]"
      ],
      "execution_count": 0,
      "outputs": []
    },
    {
      "cell_type": "code",
      "metadata": {
        "id": "oYjUycqLAKZc",
        "colab_type": "code",
        "outputId": "835224ce-460a-4d9d-ee82-98263d45c246",
        "colab": {
          "base_uri": "https://localhost:8080/",
          "height": 34
        }
      },
      "source": [
        "data.shape"
      ],
      "execution_count": 5,
      "outputs": [
        {
          "output_type": "execute_result",
          "data": {
            "text/plain": [
              "(62, 10)"
            ]
          },
          "metadata": {
            "tags": []
          },
          "execution_count": 5
        }
      ]
    },
    {
      "cell_type": "code",
      "metadata": {
        "id": "3HtDDpfRAKZh",
        "colab_type": "code",
        "outputId": "2952c9a3-b4b5-47e3-a211-abf4a80eba82",
        "colab": {
          "base_uri": "https://localhost:8080/",
          "height": 297
        }
      },
      "source": [
        "data.describe()"
      ],
      "execution_count": 6,
      "outputs": [
        {
          "output_type": "execute_result",
          "data": {
            "text/html": [
              "<div>\n",
              "<style scoped>\n",
              "    .dataframe tbody tr th:only-of-type {\n",
              "        vertical-align: middle;\n",
              "    }\n",
              "\n",
              "    .dataframe tbody tr th {\n",
              "        vertical-align: top;\n",
              "    }\n",
              "\n",
              "    .dataframe thead th {\n",
              "        text-align: right;\n",
              "    }\n",
              "</style>\n",
              "<table border=\"1\" class=\"dataframe\">\n",
              "  <thead>\n",
              "    <tr style=\"text-align: right;\">\n",
              "      <th></th>\n",
              "      <th>deaths</th>\n",
              "      <th>cumulative_positives</th>\n",
              "      <th>cumulative_tests</th>\n",
              "      <th>medianFamily</th>\n",
              "      <th>density</th>\n",
              "      <th>infected</th>\n",
              "      <th>smoking</th>\n",
              "      <th>population</th>\n",
              "      <th>arealand</th>\n",
              "    </tr>\n",
              "  </thead>\n",
              "  <tbody>\n",
              "    <tr>\n",
              "      <th>count</th>\n",
              "      <td>62.000000</td>\n",
              "      <td>62.000000</td>\n",
              "      <td>62.000000</td>\n",
              "      <td>62.000000</td>\n",
              "      <td>62.000000</td>\n",
              "      <td>62.000000</td>\n",
              "      <td>62.000000</td>\n",
              "      <td>6.200000e+01</td>\n",
              "      <td>62.000000</td>\n",
              "    </tr>\n",
              "    <tr>\n",
              "      <th>mean</th>\n",
              "      <td>280.403226</td>\n",
              "      <td>4833.725806</td>\n",
              "      <td>14072.274194</td>\n",
              "      <td>63555.225806</td>\n",
              "      <td>1163.960192</td>\n",
              "      <td>0.000097</td>\n",
              "      <td>21.316129</td>\n",
              "      <td>3.125500e+05</td>\n",
              "      <td>1968.653710</td>\n",
              "    </tr>\n",
              "    <tr>\n",
              "      <th>std</th>\n",
              "      <td>776.955755</td>\n",
              "      <td>11765.809489</td>\n",
              "      <td>29511.385229</td>\n",
              "      <td>14386.779648</td>\n",
              "      <td>4171.538908</td>\n",
              "      <td>0.000135</td>\n",
              "      <td>5.568271</td>\n",
              "      <td>5.323563e+05</td>\n",
              "      <td>1271.183827</td>\n",
              "    </tr>\n",
              "    <tr>\n",
              "      <th>min</th>\n",
              "      <td>0.000000</td>\n",
              "      <td>3.000000</td>\n",
              "      <td>38.000000</td>\n",
              "      <td>38431.000000</td>\n",
              "      <td>1.087230</td>\n",
              "      <td>0.000000</td>\n",
              "      <td>10.400000</td>\n",
              "      <td>4.836000e+03</td>\n",
              "      <td>59.130000</td>\n",
              "    </tr>\n",
              "    <tr>\n",
              "      <th>25%</th>\n",
              "      <td>1.000000</td>\n",
              "      <td>59.250000</td>\n",
              "      <td>764.000000</td>\n",
              "      <td>53973.250000</td>\n",
              "      <td>29.024049</td>\n",
              "      <td>0.000002</td>\n",
              "      <td>16.425000</td>\n",
              "      <td>5.124350e+04</td>\n",
              "      <td>1143.500000</td>\n",
              "    </tr>\n",
              "    <tr>\n",
              "      <th>50%</th>\n",
              "      <td>3.000000</td>\n",
              "      <td>126.500000</td>\n",
              "      <td>1373.500000</td>\n",
              "      <td>59116.000000</td>\n",
              "      <td>45.864643</td>\n",
              "      <td>0.000039</td>\n",
              "      <td>21.750000</td>\n",
              "      <td>9.130100e+04</td>\n",
              "      <td>1693.000000</td>\n",
              "    </tr>\n",
              "    <tr>\n",
              "      <th>75%</th>\n",
              "      <td>29.500000</td>\n",
              "      <td>912.250000</td>\n",
              "      <td>7040.750000</td>\n",
              "      <td>68946.500000</td>\n",
              "      <td>165.366786</td>\n",
              "      <td>0.000120</td>\n",
              "      <td>24.800000</td>\n",
              "      <td>2.310602e+05</td>\n",
              "      <td>2648.000000</td>\n",
              "    </tr>\n",
              "    <tr>\n",
              "      <th>max</th>\n",
              "      <td>3608.000000</td>\n",
              "      <td>50741.000000</td>\n",
              "      <td>116488.000000</td>\n",
              "      <td>107934.000000</td>\n",
              "      <td>26820.108236</td>\n",
              "      <td>0.000542</td>\n",
              "      <td>34.300000</td>\n",
              "      <td>2.504700e+06</td>\n",
              "      <td>6942.000000</td>\n",
              "    </tr>\n",
              "  </tbody>\n",
              "</table>\n",
              "</div>"
            ],
            "text/plain": [
              "            deaths  cumulative_positives  ...    population     arealand\n",
              "count    62.000000             62.000000  ...  6.200000e+01    62.000000\n",
              "mean    280.403226           4833.725806  ...  3.125500e+05  1968.653710\n",
              "std     776.955755          11765.809489  ...  5.323563e+05  1271.183827\n",
              "min       0.000000              3.000000  ...  4.836000e+03    59.130000\n",
              "25%       1.000000             59.250000  ...  5.124350e+04  1143.500000\n",
              "50%       3.000000            126.500000  ...  9.130100e+04  1693.000000\n",
              "75%      29.500000            912.250000  ...  2.310602e+05  2648.000000\n",
              "max    3608.000000          50741.000000  ...  2.504700e+06  6942.000000\n",
              "\n",
              "[8 rows x 9 columns]"
            ]
          },
          "metadata": {
            "tags": []
          },
          "execution_count": 6
        }
      ]
    },
    {
      "cell_type": "code",
      "metadata": {
        "id": "G0zu1Dk5qKMZ",
        "colab_type": "code",
        "colab": {}
      },
      "source": [
        ""
      ],
      "execution_count": 0,
      "outputs": []
    },
    {
      "cell_type": "markdown",
      "metadata": {
        "id": "hWCJcwBDvArN",
        "colab_type": "text"
      },
      "source": [
        "# Utforsk dataene"
      ]
    },
    {
      "cell_type": "markdown",
      "metadata": {
        "id": "AhvGtvoRrEbo",
        "colab_type": "text"
      },
      "source": [
        "Utforsk dataene. Hvilke variable ser ut til å påvirke antall dødsfall. Dersom dere skulle lage en modell, hvordan ville dere satt den opp. Hvilke variable ville dere brukt osv. Dere har fått to hjelpefunksjoner for å lage histogrammer og scatterplot av dataene."
      ]
    },
    {
      "cell_type": "markdown",
      "metadata": {
        "id": "rmDc0wwdWUGL",
        "colab_type": "text"
      },
      "source": [
        "Dersom du er usikker på hva et histogram eller et scatterplot er kan det være nyttig å lese dette: \n",
        "\n",
        "Histogrammer: https://statistics.laerd.com/statistical-guides/understanding-histograms.php\n",
        "\n",
        "Scatterplot: https://chartio.com/learn/charts/what-is-a-scatter-plot/\n",
        "Eller du kan spørre en av medhjelperene\n"
      ]
    },
    {
      "cell_type": "code",
      "metadata": {
        "id": "Kznrzo4TAKZm",
        "colab_type": "code",
        "cellView": "both",
        "colab": {}
      },
      "source": [
        "#@title Definer `makeHistogram` funksjonen (du må kjøre denne cellen)\n",
        "#Hjelpefunksjon for histogrammer\n",
        "def makeHistogram(data,variable,binwidth,upper_lim=None,lower_lim=None):\n",
        "    if upper_lim==None:\n",
        "        upper_lim=data[variable].max()\n",
        "    if lower_lim==None:\n",
        "        lower_lim=data[variable].min()\n",
        "    bins=range(lower_lim, upper_lim + binwidth, binwidth)\n",
        "    plt.hist(data[variable],bins=bins,range=[data[variable].min(),upper_lim]) \n",
        "    plt.ylabel(\"frequency\")\n",
        "    plt.xlabel(variable)"
      ],
      "execution_count": 0,
      "outputs": []
    },
    {
      "cell_type": "code",
      "metadata": {
        "id": "vT8OJifZAKZ5",
        "colab_type": "code",
        "cellView": "form",
        "colab": {}
      },
      "source": [
        "#@title Definer `makeScatterPlot` funksjonen (du må kjøre denne cellen)\n",
        "def makeScatterPlot(data,para1,para2,logx=False,logy=False):\n",
        "    plt.plot(data[para1],data[para2],'*')\n",
        "    if logx:\n",
        "        plt.yscale(\"log\")\n",
        "    if logy:    \n",
        "        plt.xscale('log')\n",
        "    plt.xlabel(para1)\n",
        "    plt.ylabel(para2)"
      ],
      "execution_count": 0,
      "outputs": []
    },
    {
      "cell_type": "code",
      "metadata": {
        "id": "4GZazHAEAKZy",
        "colab_type": "code",
        "cellView": "form",
        "colab": {}
      },
      "source": [
        "#@title Definer `corr_heatmap` funksjonen (du må kjøre denne cellen)\n",
        "def corr_heatmap(df, figsize=(10,10)):\n",
        "    _, axs = plt.subplots(figsize=figsize)\n",
        "    ax = sns.heatmap(df, vmin=-1, vmax=1, cmap=\"BrBG\", linewidths=0.5, annot=True, ax=axs)\n",
        "    ax.set_title('Correlation matrix')\n",
        "    return ax"
      ],
      "execution_count": 0,
      "outputs": []
    },
    {
      "cell_type": "code",
      "metadata": {
        "id": "Rbeo7IH7qKdc",
        "colab_type": "code",
        "outputId": "b545a816-c877-4d02-9cf8-cffef688b3c3",
        "colab": {
          "base_uri": "https://localhost:8080/",
          "height": 280
        }
      },
      "source": [
        "makeHistogram(data,\"cumulative_positives\",lower_lim=0,upper_lim=100,binwidth=10)"
      ],
      "execution_count": 28,
      "outputs": [
        {
          "output_type": "display_data",
          "data": {
            "image/png": "[encoded data removed]",
            "text/plain": [
              "<Figure size 432x288 with 1 Axes>"
            ]
          },
          "metadata": {
            "tags": [],
            "needs_background": "light"
          }
        }
      ]
    },
    {
      "cell_type": "markdown",
      "metadata": {
        "id": "qN68hK6Vc-Xp",
        "colab_type": "text"
      },
      "source": [
        "Vi begynner nmed å lage en correlation heat map for å få en oversikt over hvor det kan være korrelasjoner. "
      ]
    },
    {
      "cell_type": "code",
      "metadata": {
        "id": "ntC09tAJAKZ1",
        "colab_type": "code",
        "outputId": "c55ad9c6-c4e7-41de-a0b2-39a6bdd3ce5f",
        "colab": {
          "base_uri": "https://localhost:8080/",
          "height": 719
        }
      },
      "source": [
        "corr_heatmap(data.corr())"
      ],
      "execution_count": 29,
      "outputs": [
        {
          "output_type": "execute_result",
          "data": {
            "text/plain": [
              "<matplotlib.axes._subplots.AxesSubplot at 0x7f1036635ba8>"
            ]
          },
          "metadata": {
            "tags": []
          },
          "execution_count": 29
        },
        {
          "output_type": "display_data",
          "data": {
            "image/png": "[encoded data removed]",
            "text/plain": [
              "<Figure size 720x720 with 2 Axes>"
            ]
          },
          "metadata": {
            "tags": [],
            "needs_background": "light"
          }
        }
      ]
    },
    {
      "cell_type": "code",
      "metadata": {
        "id": "cegWzd71qKgb",
        "colab_type": "code",
        "outputId": "994984ad-4c3b-4227-ca3b-b48025ffbeed",
        "colab": {
          "base_uri": "https://localhost:8080/",
          "height": 279
        }
      },
      "source": [
        "makeScatterPlot(data,\"medianFamily\",\"deaths\",logx=False, logy=False)"
      ],
      "execution_count": 30,
      "outputs": [
        {
          "output_type": "display_data",
          "data": {
            "image/png": "[encoded data removed]",
            "text/plain": [
              "<Figure size 432x288 with 1 Axes>"
            ]
          },
          "metadata": {
            "tags": [],
            "needs_background": "light"
          }
        }
      ]
    },
    {
      "cell_type": "code",
      "metadata": {
        "id": "Sk8BdfNdd10B",
        "colab_type": "code",
        "colab": {}
      },
      "source": [
        ""
      ],
      "execution_count": 0,
      "outputs": []
    },
    {
      "cell_type": "code",
      "metadata": {
        "id": "qi8sM_SEeP5b",
        "colab_type": "code",
        "colab": {}
      },
      "source": [
        ""
      ],
      "execution_count": 0,
      "outputs": []
    },
    {
      "cell_type": "code",
      "metadata": {
        "id": "j6EzB6zqeP8b",
        "colab_type": "code",
        "colab": {}
      },
      "source": [
        ""
      ],
      "execution_count": 0,
      "outputs": []
    },
    {
      "cell_type": "code",
      "metadata": {
        "id": "4e_1f-drd127",
        "colab_type": "code",
        "colab": {}
      },
      "source": [
        ""
      ],
      "execution_count": 0,
      "outputs": []
    },
    {
      "cell_type": "markdown",
      "metadata": {
        "id": "9Unw8EMjAKZy",
        "colab_type": "text"
      },
      "source": [
        "### Sjekk korrelasjonen mellom variablene\n"
      ]
    },
    {
      "cell_type": "markdown",
      "metadata": {
        "id": "o-gse-HfAKZ5",
        "colab_type": "text"
      },
      "source": [
        "Vi ser det er en del sterke korrelasjoner. Sjekk scatterplot for de du mener er interessante, prøv også å bruke log skala. Spesielt ser det ut til at population er korrelert med dødsfall. For hvert scatterplot du lager, tenk igjennom hvorfor det ser ut som det gjør. "
      ]
    },
    {
      "cell_type": "markdown",
      "metadata": {
        "id": "t3Yo6bEOAKZ_",
        "colab_type": "text"
      },
      "source": [
        "### Diskuter\n",
        "Det ser ut til at både `cumulative_tests`, `cumulative_ positives`, `population` og `density` er gode prediktorer. Men allikevel er det ikke sikkert at de bør brukes når man lager en modell. \n",
        "\n",
        "Gå tilbake og les problemstillingen en gang til, diskuter om det er variable vi ikke kan bruke. "
      ]
    },
    {
      "cell_type": "markdown",
      "metadata": {
        "id": "utNfOfvzAKaA",
        "colab_type": "text"
      },
      "source": [
        "<details> \n",
        "  <summary> Trykk på pilen først etter at dere har diskutert </summary>\n",
        "  Modellen skal brukes i det de første tilfellene dukker opp i en by. På det tidspunktet vet man ikke noe om hvor mange som er smittet, hvor mange som er testet eller hvor mange som har testet positivt. Man ønsker å bruke modellen til å påvirke disse variablene, dermed kan de ikke være en del av modellen\n",
        "</details>"
      ]
    },
    {
      "cell_type": "markdown",
      "metadata": {
        "id": "yUsoLxRVAKaA",
        "colab_type": "text"
      },
      "source": [
        "### Prøv dere frem med noen enkle modeller og diskuter. "
      ]
    },
    {
      "cell_type": "markdown",
      "metadata": {
        "id": "sc1MI9dxAKaB",
        "colab_type": "text"
      },
      "source": [
        "Basert på konklusjonen av diskusjonen i forrige oppgave fokuserer vi på `population`, `medianFamily`, `smoking` og `density`. \n"
      ]
    },
    {
      "cell_type": "markdown",
      "metadata": {
        "id": "eAaktkQGAKaC",
        "colab_type": "text"
      },
      "source": [
        "<details> \n",
        "  <summary> Trykk på pilen først etter at dere har diskutert </summary>\n",
        "  Dersom du skal transformere dataene slik at du kan lage en lineær modell må du ta logaritmen av kolonnen \"deaths\". Da blir det et problem at i mange counties er det null dødsfall, og logaritmen til 0 er minus uendelig. Man kan ta hensyn til det, men det er ikke rett frem. Dere kan lese om det her: https://papers.ssrn.com/sol3/papers.cfm?abstract_id=3444996. (Jeg har ikke lest hele artikkelen, og lengden på artikkelen gir et intrykk av at dette ikke er rett frem. )    \n",
        "</details>"
      ]
    },
    {
      "cell_type": "markdown",
      "metadata": {
        "id": "YJRIrr8FAKaC",
        "colab_type": "text"
      },
      "source": [
        "Vi tester en enkel random forest modell. Random forest er ikke avhenige av lineære sammenhenger. Vi har skrevet en enkel funksjon for dere som gjøre leave-one-out cross validering av modellen. Test modellen med forskjellig kombinasjon av uavhenige variable. Sjekk feature importance. Hvilke features ser ut til å være viktige:"
      ]
    },
    {
      "cell_type": "code",
      "metadata": {
        "id": "JJTlOLtyAKaD",
        "colab_type": "code",
        "colab": {}
      },
      "source": [
        "def makePredictions(data, columns):\n",
        "    regressor = RandomForestRegressor(random_state=4, max_depth=3)\n",
        "\n",
        "    def predict(train, test):\n",
        "        test = test[columns]\n",
        "        X = train[columns]\n",
        "        y = train[\"deaths\"]\n",
        "        regressor.fit(X, y)\n",
        "        prediction = regressor.predict(test)\n",
        "        return prediction\n",
        "\n",
        "    predictions = []\n",
        "    result = data[columns]\n",
        "    result[\"deaths\"] = data[\"deaths\"]\n",
        "    for i in range(len(data)):\n",
        "        predicted = predict(data.drop([i]), data.iloc[[i]])\n",
        "        predictions.append(predicted[0])\n",
        "    result[\"predictions\"] = predictions\n",
        "    result[\"diff\"] = result[\"predictions\"] - result[\"deaths\"]\n",
        "    error = np.sqrt(mean_squared_error(result[\"deaths\"], result[\"predictions\"]))\n",
        "    model = regressor.fit(data[columns], data[\"deaths\"])\n",
        "    # Add shap importances, example: https://www.kaggle.com/wrosinski/shap-feature-importance-with-feature-engineering\n",
        "    importance = model.feature_importances_\n",
        "    return result, error, model, importance"
      ],
      "execution_count": 0,
      "outputs": []
    },
    {
      "cell_type": "code",
      "metadata": {
        "id": "ZLKrNqLKAKaI",
        "colab_type": "code",
        "colab": {}
      },
      "source": [
        "columns=[\"population\",\"density\",\"medianFamily\",\"smoking\"]"
      ],
      "execution_count": 0,
      "outputs": []
    },
    {
      "cell_type": "code",
      "metadata": {
        "id": "VyNEBNnBAKaL",
        "colab_type": "code",
        "colab": {}
      },
      "source": [
        "result,error,model,importance = makePredictions(data,columns)"
      ],
      "execution_count": 0,
      "outputs": []
    },
    {
      "cell_type": "code",
      "metadata": {
        "id": "lL3UNLJ1AKaO",
        "colab_type": "code",
        "outputId": "0ba01220-887d-47f0-b84e-e0be3591f36b",
        "colab": {
          "base_uri": "https://localhost:8080/",
          "height": 34
        }
      },
      "source": [
        "error"
      ],
      "execution_count": 36,
      "outputs": [
        {
          "output_type": "execute_result",
          "data": {
            "text/plain": [
              "304.9182043807829"
            ]
          },
          "metadata": {
            "tags": []
          },
          "execution_count": 36
        }
      ]
    },
    {
      "cell_type": "code",
      "metadata": {
        "id": "MYot7j5lAKaR",
        "colab_type": "code",
        "outputId": "edb2e8bc-a961-4cfb-cecf-9ba6ef374fe3",
        "colab": {
          "base_uri": "https://localhost:8080/",
          "height": 34
        }
      },
      "source": [
        "importance"
      ],
      "execution_count": 37,
      "outputs": [
        {
          "output_type": "execute_result",
          "data": {
            "text/plain": [
              "array([0.59419438, 0.30407958, 0.04543212, 0.05629392])"
            ]
          },
          "metadata": {
            "tags": []
          },
          "execution_count": 37
        }
      ]
    },
    {
      "cell_type": "markdown",
      "metadata": {
        "id": "nWscuroKAKaU",
        "colab_type": "text"
      },
      "source": [
        "<details>\n",
        " <summary> Trykk på pilen først etter at dere har prøvd dere frem litt </summary>\n",
        "Egentlig så ser det ut som om det er best å bruke kun en uavhenige variabel. Dette gir mening, siden det er kun det vi har nok data til. Det ser ut til at \"population\" er den viktigste variablen\n",
        "</details>"
      ]
    },
    {
      "cell_type": "markdown",
      "metadata": {
        "id": "HdKXiB25AKaU",
        "colab_type": "text"
      },
      "source": [
        "### La oss ta en tenkepause og diskutere litt igjen"
      ]
    },
    {
      "cell_type": "markdown",
      "metadata": {
        "id": "cz18TabwAKaV",
        "colab_type": "text"
      },
      "source": [
        "Det ser ut til at den viktigste uavhenige variablen er `population`. Tenk igjennom hvorfor. Hvilken verdi gir det egentlig for en by å ha en modell som predikerer antall dødsfall som funksjon av antall personer i bydelen? \n",
        "Dersom det ikke var noen forskjell på bydelene, hva ville sammenhengen mellom population og deaths da vært? "
      ]
    },
    {
      "cell_type": "markdown",
      "metadata": {
        "id": "xfElkGw6AKaV",
        "colab_type": "text"
      },
      "source": [
        "Som nevnt i oppgaven så tenker vi oss nå at en annen by skal andvende modellen, men vil modellen slik den er nå gi verdi for den nye byen? Kan vi teste det på noen måte? Diskuter"
      ]
    },
    {
      "cell_type": "markdown",
      "metadata": {
        "id": "CODX4UUhAKaW",
        "colab_type": "text"
      },
      "source": [
        "<details> \n",
        "  <summary> Trykk på pilen først etter at dere har diskutert </summary>\n",
        "    Det er ganske logisk at det er en sammenheng mellom antall folk i en bydel og hvor mange som dør av korona. Dersom alle bydelene har samme risiko, det vil si samme prosentandel som dør, så ville man sett en lineær sammenheng.\n",
        "    Altså ville man sett en sterk korrelasjon mellom population og deaths selv om alle bydelene var like utsatt. Dersom modellen skal være overførbar til en annen by, burde modellen fungere selv om man valgte å dele inn bydelene på en annen måte. Vi kan gjøre en test ved å slå sammen alle bydelene med mindre enn 70000 inbyggere til en ny bydel, og se hva den modellen predikerer.\n",
        "    </details>"
      ]
    },
    {
      "cell_type": "markdown",
      "metadata": {
        "id": "XuBVBfdpAKaW",
        "colab_type": "text"
      },
      "source": [
        "### Gjør en county sammenslåing (kommunesammenslåing :))"
      ]
    },
    {
      "cell_type": "code",
      "metadata": {
        "id": "I1NqP8LgAKaX",
        "colab_type": "code",
        "colab": {}
      },
      "source": [
        "columns = [\"population\"]\n",
        "result,error,model,importance = makePredictions(data,columns)"
      ],
      "execution_count": 0,
      "outputs": []
    },
    {
      "cell_type": "code",
      "metadata": {
        "id": "ELkT5S5NAKaa",
        "colab_type": "code",
        "colab": {}
      },
      "source": [
        "small = data[data[\"population\"]<70000]\n",
        "newCounty = pd.DataFrame()\n",
        "newCounty = newCounty.append(pd.Series(),ignore_index=True)\n",
        "newCounty[\"deaths\"] = small[\"deaths\"].sum()\n",
        "newCounty[\"density\"] = small[\"population\"].sum()/small[\"arealand\"].sum()\n",
        "newCounty[\"population\"] = small[\"population\"].sum()"
      ],
      "execution_count": 0,
      "outputs": []
    },
    {
      "cell_type": "code",
      "metadata": {
        "id": "0VbKWdCqAKad",
        "colab_type": "code",
        "outputId": "59810c94-199b-4925-8bb4-3f72e2abf0c6",
        "colab": {
          "base_uri": "https://localhost:8080/",
          "height": 80
        }
      },
      "source": [
        "newCounty"
      ],
      "execution_count": 40,
      "outputs": [
        {
          "output_type": "execute_result",
          "data": {
            "text/html": [
              "<div>\n",
              "<style scoped>\n",
              "    .dataframe tbody tr th:only-of-type {\n",
              "        vertical-align: middle;\n",
              "    }\n",
              "\n",
              "    .dataframe tbody tr th {\n",
              "        vertical-align: top;\n",
              "    }\n",
              "\n",
              "    .dataframe thead th {\n",
              "        text-align: right;\n",
              "    }\n",
              "</style>\n",
              "<table border=\"1\" class=\"dataframe\">\n",
              "  <thead>\n",
              "    <tr style=\"text-align: right;\">\n",
              "      <th></th>\n",
              "      <th>deaths</th>\n",
              "      <th>density</th>\n",
              "      <th>population</th>\n",
              "    </tr>\n",
              "  </thead>\n",
              "  <tbody>\n",
              "    <tr>\n",
              "      <th>0</th>\n",
              "      <td>50</td>\n",
              "      <td>21.647068</td>\n",
              "      <td>1166725</td>\n",
              "    </tr>\n",
              "  </tbody>\n",
              "</table>\n",
              "</div>"
            ],
            "text/plain": [
              "   deaths    density  population\n",
              "0      50  21.647068     1166725"
            ]
          },
          "metadata": {
            "tags": []
          },
          "execution_count": 40
        }
      ]
    },
    {
      "cell_type": "code",
      "metadata": {
        "id": "Vt9h8WrlAKag",
        "colab_type": "code",
        "outputId": "72ce039e-bad3-4963-d884-b76309250cc8",
        "colab": {
          "base_uri": "https://localhost:8080/",
          "height": 34
        }
      },
      "source": [
        "model.predict(newCounty[columns])"
      ],
      "execution_count": 41,
      "outputs": [
        {
          "output_type": "execute_result",
          "data": {
            "text/plain": [
              "array([1903.86954762])"
            ]
          },
          "metadata": {
            "tags": []
          },
          "execution_count": 41
        }
      ]
    },
    {
      "cell_type": "markdown",
      "metadata": {
        "id": "sWzY6EogAKaj",
        "colab_type": "text"
      },
      "source": [
        "Dette gikk jo veldig feil. I det nye county så predikerer vi altfor mange dødfall, men det reelle tallet var bare 50. Diskuter hva som skjedde her. "
      ]
    },
    {
      "cell_type": "markdown",
      "metadata": {
        "id": "_lbWnzMNAKak",
        "colab_type": "text"
      },
      "source": [
        "<details> \n",
        "  <summary> Trykk på pilen først etter at dere har diskutert </summary>\n",
        "Egentlig så bør vi ikke ha med population som en variabel. Fordi det vi egentlig er ute etter er å estimere hvilke bydeler som er mer utsatt for korona enn andre, det vil si hvilke bydeler som har en høyest dødsrate (antall døde per inbygger). Dermed bør vi heller lage en modell der vi predikerer dødsraten. For å evaluere modellen slik vi ble bedt om av oppdragsgiver, estimerer vi dødraten i hver bydel før vi ganger vi med population for å estimere antall som døde. \n",
        "    </details>"
      ]
    },
    {
      "cell_type": "code",
      "metadata": {
        "id": "vFzDrGEIAKal",
        "colab_type": "code",
        "cellView": "both",
        "colab": {}
      },
      "source": [
        "#@title Make predictions using death rate\n",
        "def makePredictionsUsingDeathRate(data, columns):\n",
        "    regressor = RandomForestRegressor(\n",
        "        n_estimators=200, random_state=42, bootstrap=True, max_depth=3\n",
        "    )\n",
        "    # regressor = DecisionTreeRegressor(max_depth=10)\n",
        "    def predict(train, test):\n",
        "        population = test.population.values[0]\n",
        "        #train_population = train[\"population\"]\n",
        "        test = test[columns]\n",
        "        X = train[columns]\n",
        "        y = train[\"deathRate\"]\n",
        "        #regressor.fit(X, y, sample_weight=train_population)\n",
        "        regressor.fit(X, y)\n",
        "        prediction = regressor.predict(test)\n",
        "        return prediction[0] * population\n",
        "\n",
        "    predictions = []\n",
        "    result = data[columns]\n",
        "    result[\"deaths\"] = data[\"deaths\"]\n",
        "    for i in range(len(data)):\n",
        "        predicted = predict(data.drop([i]), data.iloc[[i]])\n",
        "        predictions.append(predicted)\n",
        "    result[\"predictions\"] = predictions\n",
        "    result[\"diff\"] = result[\"predictions\"] - result[\"deaths\"]\n",
        "    error = np.sqrt(mean_squared_error(result[\"deaths\"], result[\"predictions\"]))\n",
        "    model = regressor.fit(\n",
        "        data[columns], data[\"deathRate\"], sample_weight=data[\"population\"]\n",
        "    )\n",
        "    importance = model.feature_importances_\n",
        "    return result, error, model, importance"
      ],
      "execution_count": 0,
      "outputs": []
    },
    {
      "cell_type": "code",
      "metadata": {
        "id": "n272u7DPAKao",
        "colab_type": "code",
        "colab": {}
      },
      "source": [
        "data[\"deathRate\"] = data[\"deaths\"]/data[\"population\"]"
      ],
      "execution_count": 0,
      "outputs": []
    },
    {
      "cell_type": "code",
      "metadata": {
        "id": "FuT-lnTCAKas",
        "colab_type": "code",
        "colab": {}
      },
      "source": [
        "columns=[\"density\"]"
      ],
      "execution_count": 0,
      "outputs": []
    },
    {
      "cell_type": "code",
      "metadata": {
        "id": "RG0W38y4AKau",
        "colab_type": "code",
        "colab": {}
      },
      "source": [
        "result,error,model,importance = makePredictionsUsingDeathRate(data,columns)"
      ],
      "execution_count": 0,
      "outputs": []
    },
    {
      "cell_type": "code",
      "metadata": {
        "id": "T0B2qfiJAKax",
        "colab_type": "code",
        "outputId": "dd934463-3607-4740-d498-92ab1675abbb",
        "colab": {
          "base_uri": "https://localhost:8080/",
          "height": 34
        }
      },
      "source": [
        "error"
      ],
      "execution_count": 52,
      "outputs": [
        {
          "output_type": "execute_result",
          "data": {
            "text/plain": [
              "179.57650654410105"
            ]
          },
          "metadata": {
            "tags": []
          },
          "execution_count": 52
        }
      ]
    },
    {
      "cell_type": "code",
      "metadata": {
        "id": "IUt-64eSAKa0",
        "colab_type": "code",
        "outputId": "2b3aa9bf-d2f0-4a2c-ffdf-ccd608f78004",
        "colab": {
          "base_uri": "https://localhost:8080/",
          "height": 51
        }
      },
      "source": [
        "#Bruker modellen igjen for å predikere for det nye sammenslåtte county, og nå går det mye bedre\n",
        "model.predict(newCounty[columns])*newCounty[\"population\"]"
      ],
      "execution_count": 47,
      "outputs": [
        {
          "output_type": "execute_result",
          "data": {
            "text/plain": [
              "0    163.810719\n",
              "Name: population, dtype: float64"
            ]
          },
          "metadata": {
            "tags": []
          },
          "execution_count": 47
        }
      ]
    },
    {
      "cell_type": "markdown",
      "metadata": {
        "id": "0-s75V9TAKa3",
        "colab_type": "text"
      },
      "source": [
        "Vi ser at vi fikk en noe bedre modell bare ved å faktisk predikere riktig variabel. Men nå tenker vi på hvert enkel bydel som et målepunkt. Er det riktig å gjøre? Har det noe å si om en bydel har flere inbyggere enn en annen. "
      ]
    },
    {
      "cell_type": "markdown",
      "metadata": {
        "id": "5739jgUVAKa3",
        "colab_type": "text"
      },
      "source": [
        "<details> \n",
        "  <summary> Trykk på pilen først etter at dere har diskutert </summary>\n",
        "    I en bydel med stor befolkning har vi flere målepunkter, vi kan tenke på et dødsfall som et målepunkt. Det vil si at vi er mer sikre på dødsraten i en bydel med mange innbyggere. Dermed kan det være lurt å vekte dataene våre med population. Det kan gjøres ved å legge til/forandre to linjer kodei predict.\n",
        "    <code> train_population=train[\"population\"]#legg til\n",
        "    regressor.fit(X,y,sample_weight=train_population) #tren med vekting <code>\n",
        "    </details>"
      ]
    },
    {
      "cell_type": "markdown",
      "metadata": {
        "id": "6PxssxHWAKa4",
        "colab_type": "text"
      },
      "source": [
        "### Hva har vi egentlig endt opp med?"
      ]
    },
    {
      "cell_type": "markdown",
      "metadata": {
        "id": "ATRzZpldAKa4",
        "colab_type": "text"
      },
      "source": [
        "Vi endte opp med en modell som bruker kun density til å predikere death rate. Sidne vi kun har en uavhenige variable kan vi plotte opp modellen.\n"
      ]
    },
    {
      "cell_type": "code",
      "metadata": {
        "id": "6w8HTaF1AKa5",
        "colab_type": "code",
        "colab": {}
      },
      "source": [
        "density = np.arange(data[\"density\"].min(),data[\"density\"].max())\n",
        "predicted = model.predict(density.reshape(-1,1))"
      ],
      "execution_count": 0,
      "outputs": []
    },
    {
      "cell_type": "code",
      "metadata": {
        "id": "mpQBcnygAKa8",
        "colab_type": "code",
        "outputId": "1c2e0668-3f8d-42e1-95c3-4d73ae4d977a",
        "colab": {
          "base_uri": "https://localhost:8080/",
          "height": 282
        }
      },
      "source": [
        "plt.plot(density,predicted)\n",
        "plt.plot(data[\"density\"],data[\"deathRate\"],'*')"
      ],
      "execution_count": 0,
      "outputs": [
        {
          "output_type": "execute_result",
          "data": {
            "text/plain": [
              "[<matplotlib.lines.Line2D at 0x7fe27ad43d68>]"
            ]
          },
          "metadata": {
            "tags": []
          },
          "execution_count": 49
        },
        {
          "output_type": "display_data",
          "data": {
            "image/png": "[encoded data removed]",
            "text/plain": [
              "<Figure size 432x288 with 1 Axes>"
            ]
          },
          "metadata": {
            "tags": [],
            "needs_background": "light"
          }
        }
      ]
    },
    {
      "cell_type": "markdown",
      "metadata": {
        "id": "YELsjZMpAKa_",
        "colab_type": "text"
      },
      "source": [
        "Vi ser at vi egentlig bare har gjort noe som ligner på en enkel kurvetilpasning. Konklusjonen av alt vi har gjort er at tettboddhet gjør en bydel utsastt for korona. Det ser også ut som om vi har en slags terksel, når man kommer over en tetthet på rundt 1000 personer per km^2 så begynner det å bli veldig farlig. Men alt dette kunne vi egentlig ha sett kun ved å plotte density mot deathRate\n",
        "Ga alt vi gjorde med maskinlæring egentlig noe verdi? Diskuter"
      ]
    },
    {
      "cell_type": "markdown",
      "metadata": {
        "id": "kZSuPdWZAKa_",
        "colab_type": "text"
      },
      "source": [
        "<details> \n",
        "  <summary> Trykk på pilen først etter at dere har diskutert </summary>\n",
        "    I prosessen med å lage modellen så lært vi en del nyttig. Selv om konklusjonen vi kom frem til kunne man funnet ved kun å plotte deathRate mot density, så var veien dit lærerik. Det viktigste vi fant ut var at de andre variablene ikke hadde så mye å si. For eksempel hadde det lite å si hvor mange som røyket i bydelen, og hvor rik bydelen var. \n",
        "Dersom man ikke hadde gått igjennom prosessen med å lage modellen, så hadde man fremdeles lurt på om disse variablene hadde noe å si. Men ved å lage modellen så ble vi mye sikrere på at tettboddhet er veldig viktig, mye viktigere enn de andre faktorene vi hadde informasjon om. \n",
        "    Vi hadde også så lite data at man kun kunne bruke en uavhenige variable for å lage en modell. Gjennom denne prosessen så fant vi ut hvilken variabel som var den viktigste, og vi fant ut at dersom man skal lage en bedre modell trenger man mere data, man må kanskje aggregere data fra flere andre byer\n",
        "    </details>"
      ]
    },
    {
      "cell_type": "code",
      "metadata": {
        "id": "RuhYq0GNAKbA",
        "colab_type": "code",
        "colab": {}
      },
      "source": [
        ""
      ],
      "execution_count": 0,
      "outputs": []
    },
    {
      "cell_type": "markdown",
      "metadata": {
        "id": "9OgcTMO5v2mj",
        "colab_type": "text"
      },
      "source": [
        "# Konklusjoner\n",
        "\n",
        " - Hva har vi lært?"
      ]
    },
    {
      "cell_type": "code",
      "metadata": {
        "id": "icH093bZv7PO",
        "colab_type": "code",
        "colab": {}
      },
      "source": [
        ""
      ],
      "execution_count": 0,
      "outputs": []
    }
  ]
}